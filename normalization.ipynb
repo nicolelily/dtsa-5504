{
 "cells": [
  {
   "cell_type": "code",
   "execution_count": 1,
   "id": "3a433eae-6d53-4a74-b3c8-08ab32208975",
   "metadata": {
    "tags": []
   },
   "outputs": [],
   "source": [
    "import pandas as pd\n",
    "import numpy as np"
   ]
  },
  {
   "cell_type": "code",
   "execution_count": 19,
   "id": "43f9d15e-1239-48e4-a3bc-97fe2de01302",
   "metadata": {},
   "outputs": [],
   "source": [
    "def normalization (fname, attr, normType):\n",
    "    '''\n",
    "    Input Parameters:\n",
    "        fname: Name of the csv file contiaining historical quotes\n",
    "        attr: The attribute to be normalized \n",
    "        normType: The type of normalization \n",
    "    Output:\n",
    "        a dictionary where each key is the original column value and each value is the normalised column value. \n",
    "    '''\n",
    "    result = {}\n",
    "    \n",
    "    df = pd.read_csv(fname)\n",
    "    attr_values = df[attr].values.tolist()\n",
    "    \n",
    "    normalized = []\n",
    "    for val in attr_values:\n",
    "        if normType == 'min_max':\n",
    "            min_value = min(attr_values)\n",
    "            max_value = max(attr_values)\n",
    "            normalized_value = (val - min_value) / (max_value - min_value)\n",
    "            normalized.append(normalized_value)\n",
    "        \n",
    "        elif normType == 'z_score':\n",
    "            mean = sum(attr_values) / len(attr_values)\n",
    "            stdev = df[attr].std()\n",
    "            normalized_value = (val - mean) / stdev\n",
    "            normalized.append(normalized_value)\n",
    "    \n",
    "    keys_values = zip(attr_values, normalized)\n",
    "            \n",
    "    result = dict(keys_values)\n",
    "            \n",
    "    return result        "
   ]
  }
 ],
 "metadata": {
  "kernelspec": {
   "display_name": "anaconda-panel-2023.05-py310",
   "language": "python",
   "name": "conda-env-anaconda-panel-2023.05-py310-py"
  },
  "language_info": {
   "codemirror_mode": {
    "name": "ipython",
    "version": 3
   },
   "file_extension": ".py",
   "mimetype": "text/x-python",
   "name": "python",
   "nbconvert_exporter": "python",
   "pygments_lexer": "ipython3",
   "version": "3.11.4"
  }
 },
 "nbformat": 4,
 "nbformat_minor": 5
}
